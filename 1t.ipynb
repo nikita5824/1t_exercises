{
 "cells": [
  {
   "cell_type": "markdown",
   "metadata": {},
   "source": [
    "1. Напишите программу, которая будет выводить на экран площадь \n",
    "квадрата и его периметр. Сторона квадрата будет равна 25"
   ]
  },
  {
   "cell_type": "code",
   "execution_count": 3,
   "metadata": {},
   "outputs": [
    {
     "name": "stdout",
     "output_type": "stream",
     "text": [
      "625100\n"
     ]
    }
   ],
   "source": [
    "side_of_square = 25\n",
    "print(str(side_of_square ** 2) + str(side_of_square * 4))"
   ]
  },
  {
   "cell_type": "markdown",
   "metadata": {},
   "source": [
    "2. Напишите функцию, которая будет принимать два числа и считать сумму квадратов этих двух чисел, запишите своё вычисление в переменную squared. (Подсказка: Помните, чтобы записать результат функции в переменную, она должна этот результат внутри себя возвращать! Return ). "
   ]
  },
  {
   "cell_type": "code",
   "execution_count": 4,
   "metadata": {},
   "outputs": [
    {
     "data": {
      "text/plain": [
       "169"
      ]
     },
     "execution_count": 4,
     "metadata": {},
     "output_type": "execute_result"
    }
   ],
   "source": [
    "def sum_of_squares(first_numb: float, second_numb: float) -> float:\n",
    "    return first_numb ** 2 + second_numb ** 2\n",
    "\n",
    "squared = sum_of_squares(5, 12)\n",
    "squared"
   ]
  },
  {
   "cell_type": "markdown",
   "metadata": {},
   "source": [
    "3. Напишите функцию, которая будет принимать на вход список  [“male“,“male“,“female“,“male“,“male“,“female“,”female“] и возвращать его в обратном порядке. Запишите список в переменную new_list. Подсказка: Вам поможет обратная индексация к спискам ! [::-1]. "
   ]
  },
  {
   "cell_type": "code",
   "execution_count": 5,
   "metadata": {},
   "outputs": [
    {
     "data": {
      "text/plain": [
       "['female', 'female', 'male', 'male', 'female', 'male', 'male']"
      ]
     },
     "execution_count": 5,
     "metadata": {},
     "output_type": "execute_result"
    }
   ],
   "source": [
    "def reverse_list(male_female: list) -> list:\n",
    "    return male_female[::-1]\n",
    "\n",
    "new_list = reverse_list(['male','male','female','male','male','female','female'])\n",
    "new_list"
   ]
  },
  {
   "cell_type": "markdown",
   "metadata": {},
   "source": [
    "4. Напишите функцию, которая будет принимать на вход список (new_list) и идти по нему в цикле. На выходе функция должна вывести на экран: Кол-во мужчин 4, Кол-во женщин 3."
   ]
  },
  {
   "cell_type": "code",
   "execution_count": 8,
   "metadata": {},
   "outputs": [
    {
     "data": {
      "text/plain": [
       "'Кол-во мужчин: 4, Кол-во женщин: 3'"
      ]
     },
     "execution_count": 8,
     "metadata": {},
     "output_type": "execute_result"
    }
   ],
   "source": [
    "def count_of_peoples(new_list: list):\n",
    "    # males_females = [0, 0]\n",
    "    \n",
    "    # for i in new_list:\n",
    "    #     if i == 'male':\n",
    "    #         males_females[0] += 1\n",
    "    #     else:\n",
    "    #         males_females[1] += 1\n",
    "    \n",
    "    # print('Кол-во мужчин ' + str(males_females[0]) + ', Кол-во женщин ' + str(males_females[1]))\n",
    "    return 'Кол-во мужчин: ' + str(new_list.count('male')) + ', Кол-во женщин: ' + str(new_list.count('female'))\n",
    "    \n",
    "count_of_peoples(new_list)"
   ]
  },
  {
   "cell_type": "markdown",
   "metadata": {},
   "source": [
    "5. Напишите функцию, которая будет принимать строку (Например: “female”), а возвращать словарь где ключи — это символы строки, а значения кол-во символов в строке. "
   ]
  },
  {
   "cell_type": "code",
   "execution_count": 11,
   "metadata": {},
   "outputs": [
    {
     "data": {
      "text/plain": [
       "{'female': 6}"
      ]
     },
     "execution_count": 11,
     "metadata": {},
     "output_type": "execute_result"
    }
   ],
   "source": [
    "def create_dict(word: str) -> dict:\n",
    "    return dict([(word, len(word))],)\n",
    "\n",
    "create_dict(new_list[0])\n"
   ]
  },
  {
   "cell_type": "markdown",
   "metadata": {},
   "source": [
    "6. Воспользуйтесь функцией range в Python и выведите на экран сумму квадратов от 1 до 100 (включительно). "
   ]
  },
  {
   "cell_type": "code",
   "execution_count": 14,
   "metadata": {},
   "outputs": [
    {
     "data": {
      "text/plain": [
       "328350"
      ]
     },
     "execution_count": 14,
     "metadata": {},
     "output_type": "execute_result"
    }
   ],
   "source": [
    "result = 0\n",
    "for i in range(1, 100):\n",
    "    result += (i ** 2)\n",
    "    \n",
    "result"
   ]
  },
  {
   "cell_type": "markdown",
   "metadata": {},
   "source": [
    "7. Укажите какой метод добавит значение в конец списка. Приведите пример."
   ]
  },
  {
   "cell_type": "markdown",
   "metadata": {},
   "source": [
    "Ответ: метод .append()"
   ]
  },
  {
   "cell_type": "code",
   "execution_count": 17,
   "metadata": {},
   "outputs": [
    {
     "data": {
      "text/plain": [
       "['Мама', 'Анархия', 'Папа', 'Стакан', 'Портвейна']"
      ]
     },
     "execution_count": 17,
     "metadata": {},
     "output_type": "execute_result"
    }
   ],
   "source": [
    "lst = ['Мама', 'Анархия']\n",
    "added_words = ['Папа', 'Стакан', 'Портвейна']\n",
    "\n",
    "for i in added_words:\n",
    "    lst.append(i)\n",
    "    \n",
    "lst"
   ]
  },
  {
   "cell_type": "markdown",
   "metadata": {},
   "source": [
    "8. Как объединить два списка \"a\" и \"b\" в один новый список \"c\"? Приведите пример."
   ]
  },
  {
   "cell_type": "markdown",
   "metadata": {},
   "source": [
    "Ответ: \n",
    "1. с помощью конкатенации\n",
    "2. с помощью .append, как в прошлом примере\n",
    "3. с помощью распаковки"
   ]
  },
  {
   "cell_type": "code",
   "execution_count": 30,
   "metadata": {},
   "outputs": [
    {
     "name": "stdout",
     "output_type": "stream",
     "text": [
      "['Мама', 'Анархия', 'Папа', 'Стакан', 'Портвейна']\n",
      "0\n",
      "['Мама', 'Анархия', 'Папа', 'Стакан', 'Портвейна']\n"
     ]
    }
   ],
   "source": [
    "# Конкатенация\n",
    "a = ['Мама', 'Анархия']\n",
    "b = ['Папа', 'Стакан', 'Портвейна']\n",
    "c = a + b\n",
    "print(c)\n",
    "\n",
    "# Распаковка\n",
    "a = ['Мама', 'Анархия']\n",
    "b = ['Папа', 'Стакан', 'Портвейна']\n",
    "c = [*a, *b]\n",
    "print(c)\n"
   ]
  },
  {
   "cell_type": "markdown",
   "metadata": {},
   "source": [
    "9. Укажите какой метод посчитает количество значений в списке. Приведите пример."
   ]
  },
  {
   "cell_type": "markdown",
   "metadata": {},
   "source": [
    "Ответ: как такового метода у списов для подсчета элементов нет, есть функция len(). \n",
    "Также можно воспользоваться циклами"
   ]
  },
  {
   "cell_type": "code",
   "execution_count": 32,
   "metadata": {},
   "outputs": [
    {
     "name": "stdout",
     "output_type": "stream",
     "text": [
      "5\n",
      "5\n"
     ]
    }
   ],
   "source": [
    "# 1 способ\n",
    "count_elements1 = len(c)\n",
    "print(count_elements1)\n",
    "\n",
    "# 2 способ\n",
    "count_elements2 = 0\n",
    "for i in c:\n",
    "    count_elements2 += 1\n",
    "print(count_elements2)"
   ]
  },
  {
   "cell_type": "markdown",
   "metadata": {},
   "source": [
    "10. Исправьте следующий код, так чтобы он отрабатывал правильно:<br/><br/>\n",
    "x = 2*\\*4<br/>\n",
    "y = 4*\\*2<br/>\n",
    "if x < y:<br/>\n",
    "print(\"x меньше y\")<br/>\n",
    "else:<br/>\n",
    "print(\"x больше, либо равен y\")\n"
   ]
  },
  {
   "cell_type": "markdown",
   "metadata": {},
   "source": [
    "Ответ: надо добавить отступы перед print()"
   ]
  },
  {
   "cell_type": "code",
   "execution_count": 33,
   "metadata": {},
   "outputs": [
    {
     "name": "stdout",
     "output_type": "stream",
     "text": [
      "x больше, либо равен y\n"
     ]
    }
   ],
   "source": [
    "x = 2**4\n",
    "y = 4**2\n",
    "if x < y:\n",
    "    print(\"x меньше y\") \n",
    "else: \n",
    "    print(\"x больше, либо равен y\")"
   ]
  }
 ],
 "metadata": {
  "kernelspec": {
   "display_name": "Python 3",
   "language": "python",
   "name": "python3"
  },
  "language_info": {
   "codemirror_mode": {
    "name": "ipython",
    "version": 3
   },
   "file_extension": ".py",
   "mimetype": "text/x-python",
   "name": "python",
   "nbconvert_exporter": "python",
   "pygments_lexer": "ipython3",
   "version": "3.11.2"
  },
  "orig_nbformat": 4
 },
 "nbformat": 4,
 "nbformat_minor": 2
}
